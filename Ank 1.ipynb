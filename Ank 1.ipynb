{
 "cells": [
  {
   "cell_type": "code",
   "execution_count": 2,
   "id": "ba32a136-4d35-4988-9fea-d037cb13cff6",
   "metadata": {},
   "outputs": [
    {
     "name": "stdout",
     "output_type": "stream",
     "text": [
      "Ankith is an AI Engineer\n"
     ]
    }
   ],
   "source": [
    "print('Ankith is an AI Engineer')"
   ]
  },
  {
   "cell_type": "code",
   "execution_count": 3,
   "id": "94867dec-5c99-4015-b58b-db16850a2cd3",
   "metadata": {},
   "outputs": [
    {
     "name": "stdout",
     "output_type": "stream",
     "text": [
      "Ankith is an AI Engineer\n"
     ]
    }
   ],
   "source": [
    "print(\"Ankith is an AI Engineer\")"
   ]
  },
  {
   "cell_type": "code",
   "execution_count": 6,
   "id": "7c0c8fbf-172d-43b2-a71e-5ab74eaeef98",
   "metadata": {},
   "outputs": [
    {
     "name": "stdout",
     "output_type": "stream",
     "text": [
      "Ankith is an AI Engineer\n"
     ]
    }
   ],
   "source": [
    "print(\"Ankith is an AI Engineer\")#Anki"
   ]
  },
  {
   "cell_type": "code",
   "execution_count": null,
   "id": "4c3c861d-bd05-4237-82f3-c2ad8aafe739",
   "metadata": {},
   "outputs": [],
   "source": [
    "3+2"
   ]
  },
  {
   "cell_type": "code",
   "execution_count": null,
   "id": "db934937-17dd-4a1f-9118-ba8deb403e5e",
   "metadata": {},
   "outputs": [],
   "source": []
  }
 ],
 "metadata": {
  "kernelspec": {
   "display_name": "Python 3 (ipykernel)",
   "language": "python",
   "name": "python3"
  },
  "language_info": {
   "codemirror_mode": {
    "name": "ipython",
    "version": 3
   },
   "file_extension": ".py",
   "mimetype": "text/x-python",
   "name": "python",
   "nbconvert_exporter": "python",
   "pygments_lexer": "ipython3",
   "version": "3.10.8"
  }
 },
 "nbformat": 4,
 "nbformat_minor": 5
}
